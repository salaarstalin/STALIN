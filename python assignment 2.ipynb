{
 "cells": [
  {
   "cell_type": "code",
   "execution_count": 1,
   "id": "81cc0b55-47d3-41b7-97e7-0488141b0f4b",
   "metadata": {},
   "outputs": [
    {
     "name": "stdin",
     "output_type": "stream",
     "text": [
      "Enter the number: 10\n",
      "Enter the number: 3\n"
     ]
    },
    {
     "name": "stdout",
     "output_type": "stream",
     "text": [
      "Addition: 13\n",
      "Subtraction: 7\n",
      "Multiplication: 30\n",
      "Modulus: 1\n",
      "Division: 3.3333333333333335\n",
      "Exponentiation: 1000\n",
      "Floor division: 3\n"
     ]
    }
   ],
   "source": [
    "a=int(input(\"Enter the number:\"))\n",
    "b=int(input(\"Enter the number:\"))\n",
    "print(\"Addition:\",a+b)\n",
    "print(\"Subtraction:\",a-b)\n",
    "print(\"Multiplication:\",a*b)\n",
    "print(\"Modulus:\",a%b)\n",
    "print(\"Division:\",a/b)\n",
    "print(\"Exponentiation:\",a**b)\n",
    "print(\"Floor division:\",a//b)"
   ]
  },
  {
   "cell_type": "code",
   "execution_count": 2,
   "id": "3d607344-4c29-4e18-8c63-7d419a0930f0",
   "metadata": {},
   "outputs": [
    {
     "name": "stdin",
     "output_type": "stream",
     "text": [
      "enter the first number: 6\n",
      "enter the second number: 8\n"
     ]
    },
    {
     "name": "stdout",
     "output_type": "stream",
     "text": [
      "first number is less than or equal to the second\n"
     ]
    }
   ],
   "source": [
    "a=int(input(\"enter the first number:\"))\n",
    "b=int(input(\"enter the second number:\"))\n",
    "if a>b:\n",
    "    print(\"first number is greather then second\")\n",
    "elif a==b:\n",
    "    print(\"first number is equal to second\")\n",
    "else:\n",
    "    print(\"first number is less than or equal to the second\")"
   ]
  },
  {
   "cell_type": "code",
   "execution_count": 15,
   "id": "66a5aff9-994d-4512-8a1b-62ae05d9dea9",
   "metadata": {},
   "outputs": [
    {
     "name": "stdout",
     "output_type": "stream",
     "text": [
      "False\n",
      "False\n",
      "True\n",
      "True\n",
      "True\n",
      "True\n",
      "False\n",
      "True\n",
      "False\n"
     ]
    }
   ],
   "source": [
    "a=True\n",
    "b=False\n",
    "c=True\n",
    "print(a and b)\n",
    "print(b and a)\n",
    "print(a and c)\n",
    "print(a or b)\n",
    "print(b or c)\n",
    "print(a or c)\n",
    "print(not a)\n",
    "print(not b)\n",
    "print(not c)"
   ]
  },
  {
   "cell_type": "code",
   "execution_count": 1,
   "id": "ddd60c46-db9f-46c7-aa60-8095ae99a94b",
   "metadata": {},
   "outputs": [
    {
     "name": "stdout",
     "output_type": "stream",
     "text": [
      "6\n",
      " n\n",
      "nilatS\n",
      "stalin\n",
      "STALIN\n"
     ]
    }
   ],
   "source": [
    "str=(\"Stalin\")\n",
    "print(len(str))\n",
    "print(str[:0],str[-1:])\n",
    "print(str[::-1])\n",
    "print(str.lower())\n",
    "print(str.upper())"
   ]
  },
  {
   "cell_type": "code",
   "execution_count": 2,
   "id": "9f574938-b2d8-44ca-a9b0-a502598e675e",
   "metadata": {},
   "outputs": [
    {
     "name": "stdin",
     "output_type": "stream",
     "text": [
      "Name: Stalin\n",
      "Age: 19\n"
     ]
    },
    {
     "name": "stdout",
     "output_type": "stream",
     "text": [
      "Hello Stalin you are 19 years old\n"
     ]
    }
   ],
   "source": [
    "Name=input(\"Name:\")\n",
    "Age=int(input(\"Age:\"))\n",
    "print(\"Hello\",Name,\"you are\",Age,\"years old\")\n"
   ]
  },
  {
   "cell_type": "code",
   "execution_count": 3,
   "id": "d8f2a5b5-953b-4ba9-bf4b-7065d61870f3",
   "metadata": {},
   "outputs": [
    {
     "name": "stdin",
     "output_type": "stream",
     "text": [
      "enter any sentence what does it mean\n",
      " enter a word in the sentence does\n"
     ]
    },
    {
     "name": "stdout",
     "output_type": "stream",
     "text": [
      "1\n"
     ]
    }
   ],
   "source": [
    "sentence=input(\"enter any sentence\")\n",
    "s=sentence.split()\n",
    "word=input(\" enter a word in the sentence\")\n",
    "if word in s:\n",
    "    index=s.index(word)\n",
    "    print(index)\n",
    "else:\n",
    "    print(\"word not found\")\n"
   ]
  },
  {
   "cell_type": "code",
   "execution_count": 22,
   "id": "3683097c-4816-4c0b-9bba-0139ac1bb734",
   "metadata": {},
   "outputs": [
    {
     "name": "stdin",
     "output_type": "stream",
     "text": [
      "enter a number 8\n",
      "enter a number 5\n",
      "enter a number 6\n",
      "enter a number 2\n",
      "enter a number 3\n"
     ]
    },
    {
     "name": "stdout",
     "output_type": "stream",
     "text": [
      "[8, 5, 6, 2, 3]\n",
      "24\n",
      "8\n",
      "2\n"
     ]
    }
   ],
   "source": [
    "nums=[]\n",
    "for i in range(5):\n",
    "    num=int(input(\"enter a number\"))\n",
    "    nums.append(num)\n",
    "print(nums)\n",
    "print(sum(nums))\n",
    "print(max(nums))\n",
    "print(min(nums))"
   ]
  },
  {
   "cell_type": "code",
   "execution_count": 23,
   "id": "820ccc9f-0e46-4fa3-a5cb-f61eb01c48b8",
   "metadata": {},
   "outputs": [
    {
     "name": "stdin",
     "output_type": "stream",
     "text": [
      "enter fruit name: Mango\n",
      "enter fruit name: Orange\n",
      "enter fruit name: Grapes\n",
      "enter fruit name: Apple\n",
      "enter fruit name: Dragon fruit\n"
     ]
    },
    {
     "name": "stdout",
     "output_type": "stream",
     "text": [
      "['Mango', 'Orange', 'Grapes', 'Apple', 'Dragon fruit']\n"
     ]
    },
    {
     "name": "stdin",
     "output_type": "stream",
     "text": [
      "enter fruit name: guava\n"
     ]
    },
    {
     "name": "stdout",
     "output_type": "stream",
     "text": [
      "['Mango', 'Orange', 'Grapes', 'Apple', 'Dragon fruit', 'guava']\n",
      "['Mango', 'Grapes', 'Apple', 'Dragon fruit', 'guava']\n"
     ]
    }
   ],
   "source": [
    "lst=[]\n",
    "for i in range(5):\n",
    "    f=input(\"enter fruit name:\")\n",
    "    lst.append(f)\n",
    "print(lst)\n",
    "add_f=input(\"enter fruit name:\")\n",
    "lst.append(add_f)\n",
    "print(lst)\n",
    "lst.pop(1)\n",
    "print(lst)"
   ]
  },
  {
   "cell_type": "code",
   "execution_count": 24,
   "id": "4141dd4a-09f3-462c-bc47-8c00d050206a",
   "metadata": {},
   "outputs": [
    {
     "name": "stdin",
     "output_type": "stream",
     "text": [
      "enter the numbers: 9\n",
      "enter the numbers: 6\n",
      "enter the numbers: 3\n",
      "enter the numbers: 1\n",
      "enter the numbers: 2\n"
     ]
    },
    {
     "name": "stdout",
     "output_type": "stream",
     "text": [
      "['9', '6', '3', '1', '2']\n",
      "['1', '2', '3', '6', '9']\n",
      "['9', '6', '3', '2', '1']\n"
     ]
    }
   ],
   "source": [
    "lst=[]\n",
    "for i in range(5):\n",
    "    num=input(\"enter the numbers:\")\n",
    "    lst.append(num)\n",
    "print(lst)\n",
    "lst.sort()\n",
    "print(lst)\n",
    "lst.sort(reverse=True)\n",
    "print(lst)"
   ]
  },
  {
   "cell_type": "code",
   "execution_count": 27,
   "id": "361868f9-b2f7-46fe-af23-025d52e5eead",
   "metadata": {},
   "outputs": [
    {
     "name": "stdout",
     "output_type": "stream",
     "text": [
      "[1, 2, 3, 4, 5]\n",
      "[6, 7, 8, 9, 10]\n",
      "[3, 4, 5, 6, 7, 8, 9, 10]\n"
     ]
    }
   ],
   "source": [
    "num=[1,2,3,4,5,6,7,8,9,10]\n",
    "print(num[:5])\n",
    "print(num[5:])\n",
    "print(num[2:])"
   ]
  },
  {
   "cell_type": "code",
   "execution_count": null,
   "id": "3940553e-ce0a-48b2-a512-12adc0cc0b2b",
   "metadata": {},
   "outputs": [],
   "source": []
  }
 ],
 "metadata": {
  "kernelspec": {
   "display_name": "Python 3 (ipykernel)",
   "language": "python",
   "name": "python3"
  },
  "language_info": {
   "codemirror_mode": {
    "name": "ipython",
    "version": 3
   },
   "file_extension": ".py",
   "mimetype": "text/x-python",
   "name": "python",
   "nbconvert_exporter": "python",
   "pygments_lexer": "ipython3",
   "version": "3.12.4"
  }
 },
 "nbformat": 4,
 "nbformat_minor": 5
}
