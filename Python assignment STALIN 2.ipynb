{
 "cells": [
  {
   "cell_type": "markdown",
   "id": "cda53b0c-e34f-40b0-a456-340c2f8bc9f5",
   "metadata": {},
   "source": [
    "#### TAKE INPUT\n",
    "a=int(input(\"enter a number:\"))\n",
    "b=int(input(\"enter another number:\"))\n",
    "\n",
    "#add a and b and store result in add\n",
    "add=a+b\n",
    "# subtract a and b and store result in subtract\n",
    "subtract=a-b\n",
    "# multiply a and b and store result on multipication\n",
    "multipication=a*b\n",
    "# divide a and b and store result in division \n",
    "division=a/b\n",
    "# find reminder and result will be store in modules\n",
    "modules=a%b\n",
    "# find the square and result will store in square\n",
    "square=a**b\n",
    "# find reminder and store result of reminder\n",
    "reminder=a//b\n",
    "\n",
    "# to display output \n",
    "print(f\"addition : {add}\\nmultiplication : {multipication} \\ndivision : {division} \\nmodules : {modules} \\nexponention : {square} \\nfloor division : {reminder}\")"
   ]
  },
  {
   "cell_type": "code",
   "execution_count": 9,
   "id": "6f876f99-f898-4f64-b448-d53f5d784bd8",
   "metadata": {},
   "outputs": [
    {
     "name": "stdout",
     "output_type": "stream",
     "text": [
      "a is smaller than b\n"
     ]
    }
   ],
   "source": [
    "# input\n",
    "a=int(input(\"enter a :-\"))\n",
    "b=int(input(\"enter b :-\"))\n",
    "\n",
    "# comparision\n",
    "if a>b:\n",
    "    print(\"a is greater than b\")\n",
    "elif a<b:\n",
    "    print(\"a is smaller than b\")\n",
    "else:\n",
    "    print(\"both are equal\")"
   ]
  },
  {
   "cell_type": "code",
   "execution_count": 8,
   "id": "907ec651-68ae-46ca-b347-dd2379a8ee05",
   "metadata": {},
   "outputs": [
    {
     "name": "stdout",
     "output_type": "stream",
     "text": [
      "False\n",
      "False\n",
      "True\n",
      "True\n",
      "True\n"
     ]
    }
   ],
   "source": [
    "210#input\n",
    "a=input(\"enter a boolean value 1:-\").strip().lower()==\"true\"\n",
    "b=input(\"enter a boolean value 2:-\").strip().lower()==\"true\"\n",
    "c=input(\"enter a boolean value 3:-\").strip().lower()==\"true\"\n",
    "\n",
    "#output\n",
    "print(a and b and c)\n",
    "print(a or b or c)\n",
    "print(not a)\n",
    "print(not b)\n",
    "print(not c)"
   ]
  },
  {
   "cell_type": "code",
   "execution_count": 7,
   "id": "fbf722a9-93e2-4a30-99ed-8353431d52ef",
   "metadata": {},
   "outputs": [
    {
     "name": "stdout",
     "output_type": "stream",
     "text": [
      "1\n",
      "5\n",
      "5\n",
      "5\n",
      "5\n",
      "5\n"
     ]
    }
   ],
   "source": [
    "# input\n",
    "a=input(\"enter any string\")\n",
    "# output length of string\n",
    "print(len(a))\n",
    "# output index 0\n",
    "print(a[0])\n",
    "# output index -1\n",
    "print(a[-1])\n",
    "# gave output in reverse order\n",
    "print(a[::-1])\n",
    "# gave output in upper strings\n",
    "print(a.upper())\n",
    "# gave output in lower strings\n",
    "print(a.lower())"
   ]
  },
  {
   "cell_type": "code",
   "execution_count": 1,
   "id": "0c9f890c-27ed-4354-b8f3-400410d49103",
   "metadata": {},
   "outputs": [
    {
     "name": "stdout",
     "output_type": "stream",
     "text": [
      "hello STALIN you are 19 years old\n"
     ]
    }
   ],
   "source": [
    "# input\n",
    "name=input(\"enter your name\")\n",
    "age=int(input(\"enter your age\"))\n",
    "# output\n",
    "print(f\"hello {name} you are {age} years old\")"
   ]
  },
  {
   "cell_type": "code",
   "execution_count": 3,
   "id": "4e33b14d-b70c-4cad-9eae-fa0bf7bec5e7",
   "metadata": {},
   "outputs": [
    {
     "name": "stdout",
     "output_type": "stream",
     "text": [
      "The word 'I' found at index position 0.\n"
     ]
    }
   ],
   "source": [
    "# input\n",
    "a = input(\"Enter a sentence: \")\n",
    "b = input(\"Enter the word: \")\n",
    "c = a.find(b)\n",
    "\n",
    "# output\n",
    "if c != -1: \n",
    "    print(f\"The word '{b}' found at index position {c}.\")\n",
    "else: \n",
    "    print(f\"The word '{b}' not found.\")\n"
   ]
  },
  {
   "cell_type": "code",
   "execution_count": 4,
   "id": "0c3ecba1-3dd9-451f-951b-d4a2896e87eb",
   "metadata": {},
   "outputs": [
    {
     "name": "stdout",
     "output_type": "stream",
     "text": [
      "65\n",
      "22\n",
      "5\n"
     ]
    }
   ],
   "source": [
    "\n",
    "a=[]\n",
    "for i in range(5):\n",
    "    b=int(input(f\"enter the no{i+1}:-\"))\n",
    "    a.append(b)\n",
    "c=sum(a)\n",
    "d=max(a)\n",
    "e=min(a)\n",
    "print(c)\n",
    "print(d)\n",
    "print(e)\n"
   ]
  },
  {
   "cell_type": "code",
   "execution_count": 5,
   "id": "30ab1307-7ada-43bf-99ee-985ea90a1263",
   "metadata": {},
   "outputs": [
    {
     "name": "stdout",
     "output_type": "stream",
     "text": [
      "['APPLE', 'ORANGE', 'PINE APPLE', 'WATER MELON', 'kiwi']\n"
     ]
    }
   ],
   "source": [
    "a=[]\n",
    "for i in range(5):\n",
    "    b=input(f\"enter the fruits name{i+1}\")\n",
    "    a.append(b)\n",
    "a.append('kiwi')\n",
    "a.pop(1)\n",
    "print(a)"
   ]
  },
  {
   "cell_type": "code",
   "execution_count": 6,
   "id": "a0190b3f-66e4-4824-bd0e-319302076d09",
   "metadata": {},
   "outputs": [
    {
     "name": "stdout",
     "output_type": "stream",
     "text": [
      "Ascending: ['I AM HIS BEST FRIEND', 'I AM HIS CLASSMATE', 'I AM HIS FRIEND', 'I AM HIS SCHOOL FRIEND', 'I AM SALAAR STALIN']\n",
      "Descending: ['I AM SALAAR STALIN', 'I AM HIS SCHOOL FRIEND', 'I AM HIS FRIEND', 'I AM HIS CLASSMATE', 'I AM HIS BEST FRIEND']\n"
     ]
    }
   ],
   "source": [
    "a = []\n",
    "for i in range(5):\n",
    "    b = input(f\"Enter the list item {i + 1}: \")\n",
    "    a.append(b)\n",
    "\n",
    "a.sort()\n",
    "print(\"Ascending:\", a)\n",
    "a.reverse()\n",
    "print(\"Descending:\", a)"
   ]
  },
  {
   "cell_type": "code",
   "execution_count": null,
   "id": "d29123aa-0434-48d8-b68b-96a71983ea72",
   "metadata": {},
   "outputs": [],
   "source": []
  }
 ],
 "metadata": {
  "kernelspec": {
   "display_name": "Python 3",
   "language": "python",
   "name": "python3"
  },
  "language_info": {
   "codemirror_mode": {
    "name": "ipython",
    "version": 3
   },
   "file_extension": ".py",
   "mimetype": "text/x-python",
   "name": "python",
   "nbconvert_exporter": "python",
   "pygments_lexer": "ipython3",
   "version": "3.12.6"
  }
 },
 "nbformat": 4,
 "nbformat_minor": 5
}
